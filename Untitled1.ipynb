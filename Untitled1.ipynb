{
  "nbformat": 4,
  "nbformat_minor": 0,
  "metadata": {
    "colab": {
      "provenance": [],
      "authorship_tag": "ABX9TyMf8heOw7dZm9Kl3R/1Rtgc",
      "include_colab_link": true
    },
    "kernelspec": {
      "name": "python3",
      "display_name": "Python 3"
    },
    "language_info": {
      "name": "python"
    }
  },
  "cells": [
    {
      "cell_type": "markdown",
      "metadata": {
        "id": "view-in-github",
        "colab_type": "text"
      },
      "source": [
        "<a href=\"https://colab.research.google.com/github/AbarinoRaven/58010_DSAA/blob/main/Untitled1.ipynb\" target=\"_parent\"><img src=\"https://colab.research.google.com/assets/colab-badge.svg\" alt=\"Open In Colab\"/></a>"
      ]
    },
    {
      "cell_type": "markdown",
      "source": [
        "Create a Python program that will traverse all integers (1 to 50) from the list, enqueue those integers that are even in the list, and dequeue afterward until the list becomes empty."
      ],
      "metadata": {
        "id": "fzYs-rCTOByx"
      }
    },
    {
      "cell_type": "code",
      "execution_count": 4,
      "metadata": {
        "colab": {
          "base_uri": "https://localhost:8080/"
        },
        "id": "brF1DyJ2OBI-",
        "outputId": "6f09def9-b6b3-460d-9cbf-9c4ae056fdec"
      },
      "outputs": [
        {
          "output_type": "stream",
          "name": "stdout",
          "text": [
            "Dequeued: 2\n",
            "Dequeued: 4\n",
            "Dequeued: 6\n",
            "Dequeued: 8\n",
            "Dequeued: 10\n",
            "Dequeued: 12\n",
            "Dequeued: 14\n",
            "Dequeued: 16\n",
            "Dequeued: 18\n",
            "Dequeued: 20\n",
            "Dequeued: 22\n",
            "Dequeued: 24\n",
            "Dequeued: 26\n",
            "Dequeued: 28\n",
            "Dequeued: 30\n",
            "Dequeued: 32\n",
            "Dequeued: 34\n",
            "Dequeued: 36\n",
            "Dequeued: 38\n",
            "Dequeued: 40\n",
            "Dequeued: 42\n",
            "Dequeued: 44\n",
            "Dequeued: 46\n",
            "Dequeued: 48\n",
            "Dequeued: 50\n",
            "Queue is empty.\n"
          ]
        }
      ],
      "source": [
        "import queue\n",
        "\n",
        "#create a queue\n",
        "my_queue = queue.Queue()\n",
        "\n",
        "#Enqueue even integers from 1 to 50\n",
        "for num in range(1, 51):\n",
        "   if num % 2 == 0:\n",
        "    my_queue.put(num)\n",
        "\n",
        "#dequeue and print the elements until the queue is empty\n",
        "while not my_queue.empty():\n",
        "  item = my_queue.get()\n",
        "  print(f\"Dequeued: {item}\")\n",
        "\n",
        "print(\"Queue is empty.\")\n"
      ]
    }
  ]
}