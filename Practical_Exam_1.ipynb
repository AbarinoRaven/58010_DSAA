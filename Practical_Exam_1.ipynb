{
  "nbformat": 4,
  "nbformat_minor": 0,
  "metadata": {
    "colab": {
      "provenance": [],
      "authorship_tag": "ABX9TyNjrpn5zZ+9WIOfVlut5BCE",
      "include_colab_link": true
    },
    "kernelspec": {
      "name": "python3",
      "display_name": "Python 3"
    },
    "language_info": {
      "name": "python"
    }
  },
  "cells": [
    {
      "cell_type": "markdown",
      "metadata": {
        "id": "view-in-github",
        "colab_type": "text"
      },
      "source": [
        "<a href=\"https://colab.research.google.com/github/AbarinoRaven/58010_DSAA/blob/main/Practical_Exam_1.ipynb\" target=\"_parent\"><img src=\"https://colab.research.google.com/assets/colab-badge.svg\" alt=\"Open In Colab\"/></a>"
      ]
    },
    {
      "cell_type": "code",
      "source": [
        "test_scores = [26, 49, 98, 87, 62, 75]\n",
        "x=0\n",
        "\n",
        "for score in test_scores:\n",
        "  if score % 2 == 0:\n",
        "    x += score\n",
        "\n",
        "print(\"Total of even scores:\",x)\n"
      ],
      "metadata": {
        "colab": {
          "base_uri": "https://localhost:8080/"
        },
        "id": "RPpxxtre7dWK",
        "outputId": "a9259229-06ff-4b40-f8cc-bf005e27d810"
      },
      "execution_count": 4,
      "outputs": [
        {
          "output_type": "stream",
          "name": "stdout",
          "text": [
            "Total of even scores: 186\n"
          ]
        }
      ]
    },
    {
      "cell_type": "code",
      "execution_count": null,
      "metadata": {
        "id": "C1hyCyHW7cFg"
      },
      "outputs": [],
      "source": []
    }
  ]
}