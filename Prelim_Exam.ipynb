{
  "nbformat": 4,
  "nbformat_minor": 0,
  "metadata": {
    "colab": {
      "provenance": [],
      "authorship_tag": "ABX9TyP41ipsgzophd0MaBtyuSw+",
      "include_colab_link": true
    },
    "kernelspec": {
      "name": "python3",
      "display_name": "Python 3"
    },
    "language_info": {
      "name": "python"
    }
  },
  "cells": [
    {
      "cell_type": "markdown",
      "metadata": {
        "id": "view-in-github",
        "colab_type": "text"
      },
      "source": [
        "<a href=\"https://colab.research.google.com/github/AbarinoRaven/58010_DSAA/blob/main/Prelim_Exam.ipynb\" target=\"_parent\"><img src=\"https://colab.research.google.com/assets/colab-badge.svg\" alt=\"Open In Colab\"/></a>"
      ]
    },
    {
      "cell_type": "markdown",
      "source": [
        "create the source code for adding the test scores 26, 49, 98, 87, 62, 75"
      ],
      "metadata": {
        "id": "YgGkBH7DRPOi"
      }
    },
    {
      "cell_type": "code",
      "execution_count": 4,
      "metadata": {
        "colab": {
          "base_uri": "https://localhost:8080/"
        },
        "id": "Ibv1oV5jI7-I",
        "outputId": "20c5a26d-5ae2-4635-9388-ef992bc4ec70"
      },
      "outputs": [
        {
          "output_type": "stream",
          "name": "stdout",
          "text": [
            "Total score: 397\n"
          ]
        }
      ],
      "source": [
        "scores = [26, 49, 98, 87, 62, 75]\n",
        "\n",
        "# Calculate the sum of the test scores\n",
        "total_score = sum(scores)\n",
        "\n",
        "# Print the total score\n",
        "print(\"Total score:\", total_score)"
      ]
    },
    {
      "cell_type": "markdown",
      "source": [
        "Create a program to sort (ascending/descending) the composite numbers in the given test scores"
      ],
      "metadata": {
        "id": "TR-_kWHwSrqS"
      }
    },
    {
      "cell_type": "code",
      "source": [
        "# Function to check if a number is composite\n",
        "def is_composite(num):\n",
        "    if num < 4:\n",
        "        return False\n",
        "    for i in range(2, num):\n",
        "        if num % i == 0:\n",
        "            return True\n",
        "    return False\n",
        "\n",
        "# Test scores\n",
        "scores = [26, 49, 98, 87, 62, 75]\n",
        "\n",
        "# Filter composite numbers from the list\n",
        "composite_numbers = [score for score in scores if is_composite(score)]\n",
        "\n",
        "# Sort composite numbers in ascending order\n",
        "ascending_sorted = sorted(composite_numbers)\n",
        "\n",
        "# Sort composite numbers in descending order\n",
        "descending_sorted = sorted(composite_numbers, reverse=True)\n",
        "\n",
        "# Print the sorted lists\n",
        "print(\"Composite numbers in ascending order:\", ascending_sorted)\n",
        "print(\"Composite numbers in descending order:\", descending_sorted)"
      ],
      "metadata": {
        "colab": {
          "base_uri": "https://localhost:8080/"
        },
        "id": "ezhNIAeOSppy",
        "outputId": "7c58a9b7-b14b-471c-f109-afc525008049"
      },
      "execution_count": 5,
      "outputs": [
        {
          "output_type": "stream",
          "name": "stdout",
          "text": [
            "Composite numbers in ascending order: [26, 49, 62, 75, 87, 98]\n",
            "Composite numbers in descending order: [98, 87, 75, 62, 49, 26]\n"
          ]
        }
      ]
    }
  ]
}