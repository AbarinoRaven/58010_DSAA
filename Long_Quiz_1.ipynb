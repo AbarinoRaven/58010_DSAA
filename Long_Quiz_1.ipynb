{
  "nbformat": 4,
  "nbformat_minor": 0,
  "metadata": {
    "colab": {
      "provenance": [],
      "authorship_tag": "ABX9TyP8x8Ml9VtAAQp5waA09wJG",
      "include_colab_link": true
    },
    "kernelspec": {
      "name": "python3",
      "display_name": "Python 3"
    },
    "language_info": {
      "name": "python"
    }
  },
  "cells": [
    {
      "cell_type": "markdown",
      "metadata": {
        "id": "view-in-github",
        "colab_type": "text"
      },
      "source": [
        "<a href=\"https://colab.research.google.com/github/AbarinoRaven/58010_DSAA/blob/main/Long_Quiz_1.ipynb\" target=\"_parent\"><img src=\"https://colab.research.google.com/assets/colab-badge.svg\" alt=\"Open In Colab\"/></a>"
      ]
    },
    {
      "cell_type": "markdown",
      "source": [
        "Create a python or C++ program that appends each character of your full name and displays each character in reverse order"
      ],
      "metadata": {
        "id": "XbORsjrjAcfd"
      }
    },
    {
      "cell_type": "code",
      "source": [
        "full_name = input(\"Enter your name: \")\n",
        "\n",
        "# Initialize an empty list to store characters\n",
        "characters = []\n",
        "\n",
        "# Iterate through each character in the full name and append it to the list\n",
        "for char in full_name:\n",
        "    characters.append(char)\n",
        "\n",
        "# Display each character in reverse form:\n",
        "print(\"Characters in reverse order:\")\n",
        "for char in reversed(characters):\n",
        "    print(char)"
      ],
      "metadata": {
        "id": "L8ClwWdAJbl1"
      },
      "execution_count": null,
      "outputs": []
    },
    {
      "cell_type": "markdown",
      "source": [
        "Using the set of positive whole numbers from 1 to 10, create a python or C++ program that displays if it is prime or composite"
      ],
      "metadata": {
        "id": "AzPKdZyfAoU0"
      }
    },
    {
      "cell_type": "code",
      "source": [
        "def is_prime(num):\n",
        "    if num <= 1:\n",
        "        return False\n",
        "    if num == 2:\n",
        "        return True\n",
        "    if num % 2 == 0:\n",
        "        return False\n",
        "    for i in range(3, int(num ** 0.5) + 1, 2):\n",
        "        if num % i == 0:\n",
        "            return False\n",
        "    return True\n",
        "\n",
        "for num in range(1, 11):\n",
        "    if is_prime(num):\n",
        "        print(f\"{num} is prime.\")\n",
        "    else:\n",
        "        print(f\"{num} is composite.\")"
      ],
      "metadata": {
        "id": "K0GOOTTCApab"
      },
      "execution_count": null,
      "outputs": []
    }
  ]
}